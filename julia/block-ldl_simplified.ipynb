{
 "cells": [
  {
   "cell_type": "code",
   "execution_count": 2,
   "id": "aa48c5ca-e947-40fc-8967-262b03ce5553",
   "metadata": {},
   "outputs": [
    {
     "name": "stderr",
     "output_type": "stream",
     "text": [
      "\u001b[32m\u001b[1m  Activating\u001b[22m\u001b[39m project at `~/Robotics/SparseLDL/julia`\n"
     ]
    }
   ],
   "source": [
    "import Pkg; Pkg.activate(@__DIR__); Pkg.instantiate()"
   ]
  },
  {
   "cell_type": "code",
   "execution_count": 3,
   "id": "206dcca3-3768-4647-9212-ff33635b6c09",
   "metadata": {},
   "outputs": [],
   "source": [
    "using LinearAlgebra\n",
    "using BlockDiagonals"
   ]
  },
  {
   "cell_type": "code",
   "execution_count": 4,
   "id": "149b39c9-7841-4bee-b763-1808c122bc12",
   "metadata": {},
   "outputs": [],
   "source": [
    "#Let's make up a linear system\n",
    "n = 4\n",
    "m = 2\n",
    "dt = 0.1\n",
    "A = [I(2) dt*I(2); zeros(2,2) I(2)];\n",
    "B = [0.5*dt*dt*I(2); dt*I(2)];"
   ]
  },
  {
   "cell_type": "code",
   "execution_count": 5,
   "id": "c419d6a4-d91a-40cd-a365-7041fbc21739",
   "metadata": {},
   "outputs": [],
   "source": [
    "#LQR Cost Matrices\n",
    "Q = Diagonal([1; 1; 0.1; 0.1]);\n",
    "R = Diagonal([0.3; 0.3]);"
   ]
  },
  {
   "cell_type": "code",
   "execution_count": 11,
   "id": "5b561ca8-d32d-41b9-8dd9-f45cbd4fb3a8",
   "metadata": {},
   "outputs": [
    {
     "data": {
      "text/plain": [
       "20×20 SparseArrays.SparseMatrixCSC{Float64, Int64} with 56 stored entries:\n",
       "⢕⠑⠑⢄⠀⠀⠀⠀⠀⠀\n",
       "⠑⢄⠀⢄⠑⠀⢄⠀⠀⠀\n",
       "⠀⠀⠑⠀⠑⢄⢕⢕⠀⠀\n",
       "⠀⠀⠀⠑⢕⢕⠀⠀⠑⢄\n",
       "⠀⠀⠀⠀⠀⠀⠑⢄⠑⢄"
      ]
     },
     "metadata": {},
     "output_type": "display_data"
    }
   ],
   "source": [
    "#Permuted KKT Matrix\n",
    "#We stack z = [x1; u1; λ2; x2; u2; λ3; x3]\n",
    "#and g = [∇x1L; ∇u1L; A*x_1+B*u_1-x_2; ∇x2L; ∇u2L; A*x_2+B*u_2-x_3]\n",
    "KKT = [R B' zeros(m,n) zeros(m,m+n+n);\n",
    "       B zeros(n,n) -I(n)       zeros(n,m+n+n);\n",
    "       zeros(n,m) -I(n) Q zeros(n,m) A' zeros(n,n);\n",
    "       zeros(m,m+n+n) R B' zeros(m,n);\n",
    "       zeros(n,m+n) A B zeros(n,n) -I(n);\n",
    "       zeros(n,m+n+n+m) -I(n) Q];\n",
    "KKT"
   ]
  },
  {
   "cell_type": "code",
   "execution_count": 7,
   "id": "57bcebc9-122a-4cc4-9fc7-0054ba19aded",
   "metadata": {},
   "outputs": [
    {
     "data": {
      "text/plain": [
       "4×4 Matrix{Float64}:\n",
       " -1.10008   0.0       -1.00167    0.0\n",
       "  0.0      -1.10008    0.0       -1.00167\n",
       " -1.00167   0.0      -10.0333     0.0\n",
       "  0.0      -1.00167    0.0      -10.0333"
      ]
     },
     "metadata": {},
     "output_type": "display_data"
    }
   ],
   "source": [
    "D1 = Matrix(Q)\n",
    "D2 = Matrix(R)\n",
    "D3 = -A*inv(D1)*A'-B*inv(D2)*B'\n",
    "D4 = Q-inv(D3)\n",
    "D5 = R\n",
    "D6 = -A*inv(D4)*A'-B*inv(D5)*B'\n",
    "D7 = Q-inv(D6)\n",
    "D = BlockDiagonal([D1, D2, D3, D4, D5, D6, D7]);\n",
    "D3"
   ]
  },
  {
   "cell_type": "code",
   "execution_count": 8,
   "id": "a8e21d05-825d-40fe-a095-b2707a41ad18",
   "metadata": {},
   "outputs": [],
   "source": [
    "L = [I(n) zeros(n,m+n+n) zeros(n,m+n+n);\n",
    "     zeros(m,n) I(m) zeros(m,n+n) zeros(m,m+n+n);\n",
    "     A*inv(D1) B*inv(D2) I(n) zeros(n,n) zeros(n,m+n+n);\n",
    "     zeros(n,n) zeros(n,m) -inv(D3) I(n) zeros(n,m+n+n);\n",
    "     zeros(m,n+m+n+n) I(m) zeros(m,n+n);\n",
    "     zeros(n,n+m+n) A*inv(D4) B*inv(D5) I(n) zeros(n,n);\n",
    "     zeros(n,n+m+n+n+m) -inv(D6) I(n)];"
   ]
  },
  {
   "cell_type": "code",
   "execution_count": 9,
   "id": "d6319c55-6320-4b20-8c87-b368c40ddcdd",
   "metadata": {},
   "outputs": [
    {
     "ename": "DimensionMismatch",
     "evalue": "DimensionMismatch(\"dimensions must match: a has dims (Base.OneTo(24), Base.OneTo(24)), b has dims (Base.OneTo(20), Base.OneTo(20)), mismatch at 1\")",
     "output_type": "error",
     "traceback": [
      "DimensionMismatch(\"dimensions must match: a has dims (Base.OneTo(24), Base.OneTo(24)), b has dims (Base.OneTo(20), Base.OneTo(20)), mismatch at 1\")\n",
      "\n",
      "Stacktrace:\n",
      "  [1] promote_shape\n",
      "    @ ./indices.jl:178 [inlined]\n",
      "  [2] promote_shape(a::Matrix{Float64}, b::Matrix{Float64})\n",
      "    @ Base ./indices.jl:169\n",
      "  [3] -(A::Matrix{Float64}, B::Matrix{Float64})\n",
      "    @ Base ./arraymath.jl:38\n",
      "  [4] -(A::Matrix{Float64}, B::SparseArrays.SparseMatrixCSC{Float64, Int64})\n",
      "    @ SparseArrays ~/Documents/julia-1.7.2/share/julia/stdlib/v1.7/SparseArrays/src/sparsematrix.jl:1777\n",
      "  [5] top-level scope\n",
      "    @ ~/Robotics/SparseLDL/julia/block-ldl_simplified.ipynb:1\n",
      "  [6] eval\n",
      "    @ ./boot.jl:373 [inlined]\n",
      "  [7] include_string(mapexpr::typeof(REPL.softscope), mod::Module, code::String, filename::String)\n",
      "    @ Base ./loading.jl:1196\n",
      "  [8] #invokelatest#2\n",
      "    @ ./essentials.jl:716 [inlined]\n",
      "  [9] invokelatest\n",
      "    @ ./essentials.jl:714 [inlined]\n",
      " [10] (::VSCodeServer.var\"#164#165\"{VSCodeServer.NotebookRunCellArguments, String})()\n",
      "    @ VSCodeServer ~/.vscode/extensions/julialang.language-julia-1.6.24/scripts/packages/VSCodeServer/src/serve_notebook.jl:19\n",
      " [11] withpath(f::VSCodeServer.var\"#164#165\"{VSCodeServer.NotebookRunCellArguments, String}, path::String)\n",
      "    @ VSCodeServer ~/.vscode/extensions/julialang.language-julia-1.6.24/scripts/packages/VSCodeServer/src/repl.jl:184\n",
      " [12] notebook_runcell_request(conn::VSCodeServer.JSONRPC.JSONRPCEndpoint{Base.PipeEndpoint, Base.PipeEndpoint}, params::VSCodeServer.NotebookRunCellArguments)\n",
      "    @ VSCodeServer ~/.vscode/extensions/julialang.language-julia-1.6.24/scripts/packages/VSCodeServer/src/serve_notebook.jl:13\n",
      " [13] dispatch_msg(x::VSCodeServer.JSONRPC.JSONRPCEndpoint{Base.PipeEndpoint, Base.PipeEndpoint}, dispatcher::VSCodeServer.JSONRPC.MsgDispatcher, msg::Dict{String, Any})\n",
      "    @ VSCodeServer.JSONRPC ~/.vscode/extensions/julialang.language-julia-1.6.24/scripts/packages/JSONRPC/src/typed.jl:67\n",
      " [14] serve_notebook(pipename::String, outputchannel_logger::Base.CoreLogging.SimpleLogger; crashreporting_pipename::String)\n",
      "    @ VSCodeServer ~/.vscode/extensions/julialang.language-julia-1.6.24/scripts/packages/VSCodeServer/src/serve_notebook.jl:136\n",
      " [15] top-level scope\n",
      "    @ ~/.vscode/extensions/julialang.language-julia-1.6.24/scripts/notebook/notebook.jl:32\n",
      " [16] include(mod::Module, _path::String)\n",
      "    @ Base ./Base.jl:418\n",
      " [17] exec_options(opts::Base.JLOptions)\n",
      "    @ Base ./client.jl:292\n",
      " [18] _start()\n",
      "    @ Base ./client.jl:495"
     ]
    }
   ],
   "source": [
    "maximum(abs.(L*D*L'-KKT))"
   ]
  },
  {
   "cell_type": "code",
   "execution_count": 10,
   "id": "58f79799-8cd3-4d87-9532-d05cad5567be",
   "metadata": {},
   "outputs": [],
   "source": []
  }
 ],
 "metadata": {
  "kernelspec": {
   "display_name": "Julia 1.7.2",
   "language": "julia",
   "name": "julia-1.7"
  },
  "language_info": {
   "file_extension": ".jl",
   "mimetype": "application/julia",
   "name": "julia",
   "version": "1.7.2"
  }
 },
 "nbformat": 4,
 "nbformat_minor": 5
}

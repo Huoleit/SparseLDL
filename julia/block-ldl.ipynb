{
 "cells": [
  {
   "cell_type": "code",
   "execution_count": 10,
   "id": "aa48c5ca-e947-40fc-8967-262b03ce5553",
   "metadata": {},
   "outputs": [
    {
     "name": "stderr",
     "output_type": "stream",
     "text": [
      "\u001b[32m\u001b[1m  Activating\u001b[22m\u001b[39m project at `~/Robotics/SparseLDL/julia`\n"
     ]
    }
   ],
   "source": [
    "import Pkg; Pkg.activate(@__DIR__); Pkg.instantiate()"
   ]
  },
  {
   "cell_type": "code",
   "execution_count": 11,
   "id": "206dcca3-3768-4647-9212-ff33635b6c09",
   "metadata": {},
   "outputs": [],
   "source": [
    "using LinearAlgebra\n",
    "using BlockDiagonals"
   ]
  },
  {
   "cell_type": "code",
   "execution_count": 12,
   "id": "149b39c9-7841-4bee-b763-1808c122bc12",
   "metadata": {},
   "outputs": [],
   "source": [
    "#Let's make up a linear system\n",
    "n = 4\n",
    "m = 2\n",
    "dt = 0.1\n",
    "A = [I(2) dt*I(2); zeros(2,2) I(2)];\n",
    "B = [0.5*dt*dt*I(2); dt*I(2)];"
   ]
  },
  {
   "cell_type": "code",
   "execution_count": 13,
   "id": "c419d6a4-d91a-40cd-a365-7041fbc21739",
   "metadata": {},
   "outputs": [],
   "source": [
    "#LQR Cost Matrices\n",
    "Q = Diagonal([1; 1; 0.1; 0.1]);\n",
    "R = Diagonal([0.3; 0.3]);"
   ]
  },
  {
   "cell_type": "code",
   "execution_count": 14,
   "id": "5b561ca8-d32d-41b9-8dd9-f45cbd4fb3a8",
   "metadata": {},
   "outputs": [],
   "source": [
    "#Permuted KKT Matrix\n",
    "#We stack z = [x1; u1; λ2; x2; u2; λ3; x3]\n",
    "#and g = [∇x1L; ∇u1L; A*x_1+B*u_1-x_2; ∇x2L; ∇u2L; A*x_2+B*u_2-x_3]\n",
    "KKT = [Q zeros(n,m) A' zeros(n,n) zeros(n,m+n+n);\n",
    "       zeros(m,n) R B' zeros(m,n) zeros(m,m+n+n);\n",
    "       A B zeros(n,n) -I(n)       zeros(n,m+n+n);\n",
    "       zeros(n,n) zeros(n,m) -I(n) Q zeros(n,m) A' zeros(n,n);\n",
    "       zeros(m,n+m+n+n) R B' zeros(m,n);\n",
    "       zeros(n,n+m+n) A B zeros(n,n) -I(n);\n",
    "       zeros(n,n+m+n+n+m) -I(n) Q];"
   ]
  },
  {
   "cell_type": "code",
   "execution_count": 23,
   "id": "57bcebc9-122a-4cc4-9fc7-0054ba19aded",
   "metadata": {},
   "outputs": [
    {
     "data": {
      "text/plain": [
       "4×4 Matrix{Float64}:\n",
       " -1.10008   0.0       -1.00167    0.0\n",
       "  0.0      -1.10008    0.0       -1.00167\n",
       " -1.00167   0.0      -10.0333     0.0\n",
       "  0.0      -1.00167    0.0      -10.0333"
      ]
     },
     "metadata": {},
     "output_type": "display_data"
    }
   ],
   "source": [
    "D1 = Matrix(Q)\n",
    "D2 = Matrix(R)\n",
    "D3 = -A*inv(D1)*A'-B*inv(D2)*B'\n",
    "D4 = Q-inv(D3)\n",
    "D5 = R\n",
    "D6 = -A*inv(D4)*A'-B*inv(D5)*B'\n",
    "D7 = Q-inv(D6)\n",
    "D = BlockDiagonal([D1, D2, D3, D4, D5, D6, D7]);\n",
    "D3"
   ]
  },
  {
   "cell_type": "code",
   "execution_count": 16,
   "id": "a8e21d05-825d-40fe-a095-b2707a41ad18",
   "metadata": {},
   "outputs": [],
   "source": [
    "L = [I(n) zeros(n,m+n+n) zeros(n,m+n+n);\n",
    "     zeros(m,n) I(m) zeros(m,n+n) zeros(m,m+n+n);\n",
    "     A*inv(D1) B*inv(D2) I(n) zeros(n,n) zeros(n,m+n+n);\n",
    "     zeros(n,n) zeros(n,m) -inv(D3) I(n) zeros(n,m+n+n);\n",
    "     zeros(m,n+m+n+n) I(m) zeros(m,n+n);\n",
    "     zeros(n,n+m+n) A*inv(D4) B*inv(D5) I(n) zeros(n,n);\n",
    "     zeros(n,n+m+n+n+m) -inv(D6) I(n)];"
   ]
  },
  {
   "cell_type": "code",
   "execution_count": 17,
   "id": "d6319c55-6320-4b20-8c87-b368c40ddcdd",
   "metadata": {},
   "outputs": [
    {
     "data": {
      "text/plain": [
       "2.220446049250313e-16"
      ]
     },
     "metadata": {},
     "output_type": "display_data"
    }
   ],
   "source": [
    "maximum(abs.(L*D*L'-KKT))"
   ]
  },
  {
   "cell_type": "code",
   "execution_count": 18,
   "id": "58f79799-8cd3-4d87-9532-d05cad5567be",
   "metadata": {},
   "outputs": [],
   "source": []
  }
 ],
 "metadata": {
  "kernelspec": {
   "display_name": "Julia 1.7.2",
   "language": "julia",
   "name": "julia-1.7"
  },
  "language_info": {
   "file_extension": ".jl",
   "mimetype": "application/julia",
   "name": "julia",
   "version": "1.7.2"
  }
 },
 "nbformat": 4,
 "nbformat_minor": 5
}
